{
  "nbformat": 4,
  "nbformat_minor": 0,
  "metadata": {
    "colab": {
      "provenance": []
    },
    "kernelspec": {
      "name": "python3",
      "display_name": "Python 3"
    },
    "language_info": {
      "name": "python"
    }
  },
  "cells": [
    {
      "cell_type": "code",
      "execution_count": null,
      "metadata": {
        "colab": {
          "base_uri": "https://localhost:8080/"
        },
        "id": "yethlqnHcJEI",
        "outputId": "8705980b-fd3d-43fe-c376-61e2d5a0e294"
      },
      "outputs": [
        {
          "output_type": "stream",
          "name": "stdout",
          "text": [
            "The sum of the numbers is: 15\n"
          ]
        }
      ],
      "source": [
        "# Function to sum the elements in a list\n",
        "def sum_numbers(numbers):\n",
        "    return sum(numbers)\n",
        "\n",
        "# Main function\n",
        "def main():\n",
        "    # Sample list of numbers\n",
        "    numbers = [1, 2, 3, 4, 5]\n",
        "\n",
        "    # Call the sum_numbers function and print the result\n",
        "    result = sum_numbers(numbers)\n",
        "    print(f\"The sum of the numbers is: {result}\")\n",
        "\n",
        "# This provided line is required at the end of\n",
        "# Python file to call the main() function.\n",
        "if __name__ == '__main__':\n",
        "    main()\n"
      ]
    },
    {
      "cell_type": "code",
      "source": [
        "def main():\n",
        "    # Original list of numbers\n",
        "    numbers = [1, 2, 3, 4]\n",
        "\n",
        "    # Double each element using list comprehension\n",
        "    numbers = [number * 2 for number in numbers]\n",
        "\n",
        "    # Print the updated list\n",
        "    print(numbers)\n",
        "\n",
        "# This provided line is required at the end of\n",
        "# Python file to call the main() function.\n",
        "if __name__ == '__main__':\n",
        "    main()\n"
      ],
      "metadata": {
        "colab": {
          "base_uri": "https://localhost:8080/"
        },
        "id": "FMZJJBsrctzJ",
        "outputId": "d708e2f1-4568-4f4a-a9f3-0c9ee4f95c16"
      },
      "execution_count": null,
      "outputs": [
        {
          "output_type": "stream",
          "name": "stdout",
          "text": [
            "[2, 4, 6, 8]\n"
          ]
        }
      ]
    },
    {
      "cell_type": "code",
      "source": [
        "import pygame\n",
        "import sys\n",
        "\n",
        "# Initialize pygame\n",
        "pygame.init()\n",
        "\n",
        "# Constants\n",
        "CANVAS_WIDTH = 400\n",
        "CANVAS_HEIGHT = 400\n",
        "CELL_SIZE = 40\n",
        "ERASER_SIZE = 20\n",
        "\n",
        "# Colors\n",
        "BLUE = (0, 0, 255)\n",
        "WHITE = (255, 255, 255)\n",
        "PINK = (255, 105, 180)\n",
        "\n",
        "# Set up display\n",
        "screen = pygame.display.set_mode((CANVAS_WIDTH, CANVAS_HEIGHT))\n",
        "pygame.display.set_caption(\"Eraser Canvas\")\n",
        "\n",
        "# Function to draw the grid\n",
        "def draw_grid():\n",
        "    for row in range(0, CANVAS_HEIGHT, CELL_SIZE):\n",
        "        for col in range(0, CANVAS_WIDTH, CELL_SIZE):\n",
        "            pygame.draw.rect(screen, BLUE, (col, row, CELL_SIZE, CELL_SIZE))\n",
        "\n",
        "# Function to erase the cells\n",
        "def erase_cells(eraser_rect):\n",
        "    for row in range(0, CANVAS_HEIGHT, CELL_SIZE):\n",
        "        for col in range(0, CANVAS_WIDTH, CELL_SIZE):\n",
        "            cell_rect = pygame.Rect(col, row, CELL_SIZE, CELL_SIZE)\n",
        "            if eraser_rect.colliderect(cell_rect):\n",
        "                pygame.draw.rect(screen, WHITE, cell_rect)\n",
        "\n",
        "def main():\n",
        "    # Initial setup\n",
        "    eraser_rect = pygame.Rect(0, 0, ERASER_SIZE, ERASER_SIZE)\n",
        "    dragging = False\n",
        "\n",
        "    # Main game loop\n",
        "    while True:\n",
        "        screen.fill(WHITE)  # Clear the screen\n",
        "        draw_grid()         # Draw the grid\n",
        "        erase_cells(eraser_rect)  # Erase cells under the eraser\n",
        "\n",
        "        for event in pygame.event.get():\n",
        "            if event.type == pygame.QUIT:\n",
        "                pygame.quit()\n",
        "                sys.exit()\n",
        "\n",
        "            if event.type == pygame.MOUSEBUTTONDOWN:\n",
        "                if event.button == 1:  # Left click\n",
        "                    dragging = True\n",
        "                    eraser_rect.topleft = event.pos  # Move eraser to mouse position\n",
        "\n",
        "            if event.type == pygame.MOUSEMOTION and dragging:\n",
        "                eraser_rect.topleft = event.pos  # Move eraser to mouse position\n",
        "\n",
        "            if event.type == pygame.MOUSEBUTTONUP:\n",
        "                if event.button == 1:  # Left click release\n",
        "                    dragging = False\n",
        "\n",
        "        # Draw the eraser\n",
        "        pygame.draw.rect(screen, PINK, eraser_rect)\n",
        "\n",
        "        pygame.display.update()\n",
        "\n",
        "if __name__ == '__main__':\n",
        "    main()\n"
      ],
      "metadata": {
        "colab": {
          "base_uri": "https://localhost:8080/",
          "height": 332
        },
        "id": "Ejxwu_ACsAAx",
        "outputId": "4197ea8a-62a0-4387-f611-966b112ad4b6"
      },
      "execution_count": null,
      "outputs": [
        {
          "output_type": "stream",
          "name": "stdout",
          "text": [
            "pygame 2.6.1 (SDL 2.28.4, Python 3.11.11)\n",
            "Hello from the pygame community. https://www.pygame.org/contribute.html\n"
          ]
        },
        {
          "output_type": "error",
          "ename": "KeyboardInterrupt",
          "evalue": "",
          "traceback": [
            "\u001b[0;31m---------------------------------------------------------------------------\u001b[0m",
            "\u001b[0;31mKeyboardInterrupt\u001b[0m                         Traceback (most recent call last)",
            "\u001b[0;32m<ipython-input-7-85845f8ebf30>\u001b[0m in \u001b[0;36m<cell line: 0>\u001b[0;34m()\u001b[0m\n\u001b[1;32m     68\u001b[0m \u001b[0;34m\u001b[0m\u001b[0m\n\u001b[1;32m     69\u001b[0m \u001b[0;32mif\u001b[0m \u001b[0m__name__\u001b[0m \u001b[0;34m==\u001b[0m \u001b[0;34m'__main__'\u001b[0m\u001b[0;34m:\u001b[0m\u001b[0;34m\u001b[0m\u001b[0;34m\u001b[0m\u001b[0m\n\u001b[0;32m---> 70\u001b[0;31m     \u001b[0mmain\u001b[0m\u001b[0;34m(\u001b[0m\u001b[0;34m)\u001b[0m\u001b[0;34m\u001b[0m\u001b[0;34m\u001b[0m\u001b[0m\n\u001b[0m",
            "\u001b[0;32m<ipython-input-7-85845f8ebf30>\u001b[0m in \u001b[0;36mmain\u001b[0;34m()\u001b[0m\n\u001b[1;32m     65\u001b[0m         \u001b[0mpygame\u001b[0m\u001b[0;34m.\u001b[0m\u001b[0mdraw\u001b[0m\u001b[0;34m.\u001b[0m\u001b[0mrect\u001b[0m\u001b[0;34m(\u001b[0m\u001b[0mscreen\u001b[0m\u001b[0;34m,\u001b[0m \u001b[0mPINK\u001b[0m\u001b[0;34m,\u001b[0m \u001b[0meraser_rect\u001b[0m\u001b[0;34m)\u001b[0m\u001b[0;34m\u001b[0m\u001b[0;34m\u001b[0m\u001b[0m\n\u001b[1;32m     66\u001b[0m \u001b[0;34m\u001b[0m\u001b[0m\n\u001b[0;32m---> 67\u001b[0;31m         \u001b[0mpygame\u001b[0m\u001b[0;34m.\u001b[0m\u001b[0mdisplay\u001b[0m\u001b[0;34m.\u001b[0m\u001b[0mupdate\u001b[0m\u001b[0;34m(\u001b[0m\u001b[0;34m)\u001b[0m\u001b[0;34m\u001b[0m\u001b[0;34m\u001b[0m\u001b[0m\n\u001b[0m\u001b[1;32m     68\u001b[0m \u001b[0;34m\u001b[0m\u001b[0m\n\u001b[1;32m     69\u001b[0m \u001b[0;32mif\u001b[0m \u001b[0m__name__\u001b[0m \u001b[0;34m==\u001b[0m \u001b[0;34m'__main__'\u001b[0m\u001b[0;34m:\u001b[0m\u001b[0;34m\u001b[0m\u001b[0;34m\u001b[0m\u001b[0m\n",
            "\u001b[0;31mKeyboardInterrupt\u001b[0m: "
          ]
        }
      ]
    },
    {
      "cell_type": "code",
      "source": [
        "def add_three_copies(my_list, data):\n",
        "    \"\"\"Adds three copies of 'data' to 'my_list'.\"\"\"\n",
        "    my_list.append(data)\n",
        "    my_list.append(data)\n",
        "    my_list.append(data)\n",
        "\n",
        "def main():\n",
        "    # Prompt user for input\n",
        "    message = input(\"Enter a message to copy: \")\n",
        "\n",
        "    # Initialize an empty list\n",
        "    my_list = []\n",
        "\n",
        "    # Display list before adding copies\n",
        "    print(f\"List before: {my_list}\")\n",
        "\n",
        "    # Call the function to add three copies\n",
        "    add_three_copies(my_list, message)\n",
        "\n",
        "    # Display list after adding copies\n",
        "    print(f\"List after: {my_list}\")\n",
        "\n",
        "# This provided line is required at the end of\n",
        "# Python file to call the main() function.\n",
        "if __name__ == '__main__':\n",
        "    main()\n"
      ],
      "metadata": {
        "colab": {
          "base_uri": "https://localhost:8080/"
        },
        "id": "iDdMbs_zvycw",
        "outputId": "80a457f0-98f1-4c08-dc29-33dbc03809bf"
      },
      "execution_count": null,
      "outputs": [
        {
          "output_type": "stream",
          "name": "stdout",
          "text": [
            "Enter a message to copy: hgfgcf\n",
            "List before: []\n",
            "List after: ['hgfgcf', 'hgfgcf', 'hgfgcf']\n"
          ]
        }
      ]
    },
    {
      "cell_type": "code",
      "source": [
        "def get_first_element(lst):\n",
        "    \"\"\"Prints the first element of the list.\"\"\"\n",
        "    print(lst[0])  # Access and print the first element of the list\n",
        "\n",
        "def main():\n",
        "    # Initialize an empty list\n",
        "    lst = []\n",
        "\n",
        "    # Prompt user to input elements one by one\n",
        "    num_elements = int(input(\"How many elements will the list contain? \"))\n",
        "    for _ in range(num_elements):\n",
        "        element = input(\"Enter an element: \")\n",
        "        lst.append(element)\n",
        "\n",
        "    # Call the function to print the first element\n",
        "    get_first_element(lst)\n",
        "\n",
        "# This provided line is required at the end of\n",
        "# Python file to call the main() function.\n",
        "if __name__ == '__main__':\n",
        "    main()\n"
      ],
      "metadata": {
        "colab": {
          "base_uri": "https://localhost:8080/"
        },
        "id": "jGbJ3uYlwHC3",
        "outputId": "2965fcf7-dfa9-4663-d47a-442784a28c1c"
      },
      "execution_count": null,
      "outputs": [
        {
          "output_type": "stream",
          "name": "stdout",
          "text": [
            "How many elements will the list contain? 6\n",
            "Enter an element: ytgg\n",
            "Enter an element: iu\n",
            "Enter an element: i8\n",
            "Enter an element: 656\n",
            "Enter an element: yt\n",
            "Enter an element: jkfkshxfkjhfks\n",
            "ytgg\n"
          ]
        }
      ]
    },
    {
      "cell_type": "code",
      "source": [
        "def get_last_element(lst):\n",
        "    \"\"\"Prints the last element of the list.\"\"\"\n",
        "    print(lst[-1])  # Access and print the last element of the list using negative indexing\n",
        "\n",
        "def main():\n",
        "    # Initialize an empty list\n",
        "    lst = []\n",
        "\n",
        "    # Prompt user to input elements one by one\n",
        "    num_elements = int(input(\"How many elements will the list contain? \"))\n",
        "    for _ in range(num_elements):\n",
        "        element = input(\"Enter an element: \")\n",
        "        lst.append(element)\n",
        "\n",
        "    # Call the function to print the last element\n",
        "    get_last_element(lst)\n",
        "\n",
        "# This provided line is required at the end of\n",
        "# Python file to call the main() function.\n",
        "if __name__ == '__main__':\n",
        "    main()\n",
        "\n"
      ],
      "metadata": {
        "colab": {
          "base_uri": "https://localhost:8080/"
        },
        "id": "LywB5cgVw6Bn",
        "outputId": "169f03c1-6fb9-4cfb-90e5-b87d6c92cb14"
      },
      "execution_count": null,
      "outputs": [
        {
          "output_type": "stream",
          "name": "stdout",
          "text": [
            "How many elements will the list contain? 4\n",
            "Enter an element: ieurw\n",
            "Enter an element: ytyr\n",
            "Enter an element: 56\n",
            "Enter an element: ksjhhhhhhhhhhhf\n",
            "ksjhhhhhhhhhhhf\n"
          ]
        }
      ]
    },
    {
      "cell_type": "code",
      "source": [
        "def main():\n",
        "    # Initialize an empty list\n",
        "    user_list = []\n",
        "\n",
        "    while True:\n",
        "        # Ask the user to enter a value\n",
        "        value = input(\"Enter a value: \")\n",
        "\n",
        "        # If the user presses enter without typing anything, print the list and exit\n",
        "        if value == \"\":\n",
        "            print(f\"Here's the list: {user_list}\")\n",
        "            break\n",
        "\n",
        "        # Add the entered value to the list\n",
        "        user_list.append(value)\n",
        "\n",
        "# This provided line is required at the end of\n",
        "# Python file to call the main() function.\n",
        "if __name__ == '__main__':\n",
        "    main()\n",
        "\n"
      ],
      "metadata": {
        "colab": {
          "base_uri": "https://localhost:8080/"
        },
        "id": "ngYthLRMxKJr",
        "outputId": "2bc51fdf-88c6-4bf5-b3d3-d027ab3ead20"
      },
      "execution_count": null,
      "outputs": [
        {
          "output_type": "stream",
          "name": "stdout",
          "text": [
            "Enter a value: 45\n",
            "Enter a value: 34\n",
            "Enter a value: sjfksfjas\n",
            "Enter a value: sajkfdddddddddddddd\n",
            "Enter a value: uyyyyyyyyyyyyyyyyyyyyyy\n",
            "Enter a value: 378522229\n",
            "Enter a value: sxncmajkdqljdqkjdnajknakc zncajkkkkcssssjsc jkjcakjCLkjccKLSJKLWJJKJsjk xvvvvvvvvvvvvvvvvvvvvvvvvvvvv\n",
            "Enter a value: ejkd\n",
            "Enter a value: jfkejf\n",
            "Enter a value: ywyie\n",
            "Enter a value: 85\n",
            "Enter a value: xmncmnxv  k\n",
            "Enter a value: dfdbjhbvjhcd\n",
            "Enter a value: ejhdfe\n",
            "Enter a value: 35m\n",
            "Enter a value: \n",
            "Here's the list: ['45', '34', 'sjfksfjas', 'sajkfdddddddddddddd', 'uyyyyyyyyyyyyyyyyyyyyyy', '378522229', 'sxncmajkdqljdqkjdnajknakc zncajkkkkcssssjsc jkjcakjCLkjccKLSJKLWJJKJsjk xvvvvvvvvvvvvvvvvvvvvvvvvvvvv', 'ejkd', 'jfkejf', 'ywyie', '85', 'xmncmnxv  k', 'dfdbjhbvjhcd', 'ejhdfe', '35m']\n"
          ]
        }
      ]
    },
    {
      "cell_type": "code",
      "source": [
        "MAX_LENGTH = 3  # You can change this to test with different values.\n",
        "\n",
        "def shorten(lst):\n",
        "    # If the length of the list is greater than MAX_LENGTH\n",
        "    while len(lst) > MAX_LENGTH:\n",
        "        # Remove the last item from the list and print it\n",
        "        removed_item = lst.pop()\n",
        "        print(f\"Removed: {removed_item}\")\n",
        "\n",
        "def main():\n",
        "    # Example list to test\n",
        "    test_list = ['a', 'b', 'c', 'd', 'e']\n",
        "    print(f\"Original list: {test_list}\")\n",
        "\n",
        "    shorten(test_list)\n",
        "\n",
        "    # Print the shortened list\n",
        "    print(f\"Shortened list: {test_list}\")\n",
        "\n",
        "if __name__ == '__main__':\n",
        "    main()\n"
      ],
      "metadata": {
        "id": "lYzFyEYqxqqn",
        "outputId": "a004b145-f7e2-4e46-a5fe-6fb85653f33e",
        "colab": {
          "base_uri": "https://localhost:8080/"
        }
      },
      "execution_count": null,
      "outputs": [
        {
          "output_type": "stream",
          "name": "stdout",
          "text": [
            "Original list: ['a', 'b', 'c', 'd', 'e']\n",
            "Removed: e\n",
            "Removed: d\n",
            "Shortened list: ['a', 'b', 'c']\n"
          ]
        }
      ]
    }
  ]
}