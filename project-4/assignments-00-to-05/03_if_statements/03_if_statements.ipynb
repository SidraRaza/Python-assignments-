{
  "nbformat": 4,
  "nbformat_minor": 0,
  "metadata": {
    "colab": {
      "provenance": []
    },
    "kernelspec": {
      "name": "python3",
      "display_name": "Python 3"
    },
    "language_info": {
      "name": "python"
    }
  },
  "cells": [
    {
      "cell_type": "code",
      "execution_count": null,
      "metadata": {
        "colab": {
          "base_uri": "https://localhost:8080/"
        },
        "id": "GewNRUI18cUb",
        "outputId": "1f29cc89-1eb1-411f-9c04-0a0cc12082e5"
      },
      "outputs": [
        {
          "output_type": "stream",
          "name": "stdout",
          "text": [
            "0 2 4 6 8 10 12 14 16 18 20 22 24 26 28 30 32 34 36 38 "
          ]
        }
      ],
      "source": [
        "def main():\n",
        "    for i in range(20):\n",
        "        print(i * 2, end=' ')\n",
        "\n",
        "if __name__ == '__main__':\n",
        "    main()\n"
      ]
    },
    {
      "cell_type": "code",
      "source": [
        "def main():\n",
        "    age = int(input(\"How old are you? \"))\n",
        "\n",
        "    if age >= 16:\n",
        "        print(\"You can vote in Peturksbouipo where the voting age is 16.\")\n",
        "    else:\n",
        "        print(\"You cannot vote in Peturksbouipo where the voting age is 16.\")\n",
        "\n",
        "    if age >= 25:\n",
        "        print(\"You can vote in Stanlau where the voting age is 25.\")\n",
        "    else:\n",
        "        print(\"You cannot vote in Stanlau where the voting age is 25.\")\n",
        "\n",
        "    if age >= 48:\n",
        "        print(\"You can vote in Mayengua where the voting age is 48.\")\n",
        "    else:\n",
        "        print(\"You cannot vote in Mayengua where the voting age is 48.\")\n",
        "\n",
        "if __name__ == '__main__':\n",
        "    main()\n"
      ],
      "metadata": {
        "colab": {
          "base_uri": "https://localhost:8080/"
        },
        "id": "67zC1Ja79Km2",
        "outputId": "53ff14e7-6861-4707-bb29-9bae62567399"
      },
      "execution_count": null,
      "outputs": [
        {
          "output_type": "stream",
          "name": "stdout",
          "text": [
            "How old are you? 45\n",
            "You can vote in Peturksbouipo where the voting age is 16.\n",
            "You can vote in Stanlau where the voting age is 25.\n",
            "You cannot vote in Mayengua where the voting age is 48.\n"
          ]
        }
      ]
    },
    {
      "cell_type": "code",
      "source": [
        "def main():\n",
        "    year = int(input(\"Enter a year: \"))\n",
        "\n",
        "    if (year % 4 == 0):\n",
        "        if (year % 100 == 0):\n",
        "            if (year % 400 == 0):\n",
        "                print(\"That's a leap year!\")\n",
        "            else:\n",
        "                print(\"That's not a leap year.\")\n",
        "        else:\n",
        "            print(\"That's a leap year!\")\n",
        "    else:\n",
        "        print(\"That's not a leap year.\")\n",
        "\n",
        "\n",
        "if __name__ == '__main__':\n",
        "    main()\n"
      ],
      "metadata": {
        "colab": {
          "base_uri": "https://localhost:8080/"
        },
        "id": "GcELvulf9iHO",
        "outputId": "41ffe0cb-8640-491c-bc22-d7482267816a"
      },
      "execution_count": null,
      "outputs": [
        {
          "output_type": "stream",
          "name": "stdout",
          "text": [
            "Enter a year: 2023\n",
            "That's not a leap year.\n"
          ]
        }
      ]
    },
    {
      "cell_type": "code",
      "source": [
        "def main():\n",
        "    height = int(input(\"How tall are you? \"))\n",
        "\n",
        "    if height >= 50:\n",
        "        print(\"You're tall enough to ride!\")\n",
        "    else:\n",
        "        print(\"You're not tall enough to ride, but maybe next year!\")\n",
        "\n",
        "\n",
        "if __name__ == '__main__':\n",
        "    main()\n"
      ],
      "metadata": {
        "colab": {
          "base_uri": "https://localhost:8080/"
        },
        "id": "xOdbheoN9xtD",
        "outputId": "8e4ccccf-b82f-4edc-9a10-3d388d359004"
      },
      "execution_count": null,
      "outputs": [
        {
          "output_type": "stream",
          "name": "stdout",
          "text": [
            "How tall are you? 54\n",
            "You're tall enough to ride!\n"
          ]
        }
      ]
    },
    {
      "cell_type": "code",
      "source": [
        "import random\n",
        "\n",
        "def main():\n",
        "    for _ in range(10):\n",
        "        value = random.randint(1, 100)\n",
        "        print(value, end=' ')\n",
        "\n",
        "if __name__ == '__main__':\n",
        "    main()\n"
      ],
      "metadata": {
        "id": "VlSx5pzX-BC5",
        "outputId": "f323a8f9-dd7c-4517-ca7c-109609f4d70a",
        "colab": {
          "base_uri": "https://localhost:8080/"
        }
      },
      "execution_count": null,
      "outputs": [
        {
          "output_type": "stream",
          "name": "stdout",
          "text": [
            "73 16 99 60 32 60 78 93 47 88 "
          ]
        }
      ]
    }
  ]
}