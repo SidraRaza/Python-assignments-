{
  "nbformat": 4,
  "nbformat_minor": 0,
  "metadata": {
    "colab": {
      "provenance": [],
      "authorship_tag": "ABX9TyPBr7R/R6eexV8ucRNsRz5s",
      "include_colab_link": true
    },
    "kernelspec": {
      "name": "python3",
      "display_name": "Python 3"
    },
    "language_info": {
      "name": "python"
    }
  },
  "cells": [
    {
      "cell_type": "markdown",
      "metadata": {
        "id": "view-in-github",
        "colab_type": "text"
      },
      "source": [
        "<a href=\"https://colab.research.google.com/github/SidraRaza/Python-assignments-/blob/main/project-4/assignments-00-to-05/00_intro_python.ipynb\" target=\"_parent\"><img src=\"https://colab.research.google.com/assets/colab-badge.svg\" alt=\"Open In Colab\"/></a>"
      ]
    },
    {
      "cell_type": "markdown",
      "source": [
        "01_add_two_numbers"
      ],
      "metadata": {
        "id": "ZH8woS5F39ZC"
      }
    },
    {
      "cell_type": "code",
      "execution_count": null,
      "metadata": {
        "colab": {
          "base_uri": "https://localhost:8080/"
        },
        "id": "PMj2zDFxJsP_",
        "outputId": "dc01cc5b-7ea2-48ff-aa4c-503b6b2800c8"
      },
      "outputs": [
        {
          "output_type": "stream",
          "name": "stdout",
          "text": [
            "Enter the first number: 4\n",
            "Enter the second number: 5\n",
            "The sum of 4 and 5 is: 9\n"
          ]
        }
      ],
      "source": [
        "# Prompt the user to enter the first number\n",
        "num1 = int(input(\"Enter the first number: \"))\n",
        "\n",
        "# Prompt the user to enter the second number\n",
        "num2 = int(input(\"Enter the second number: \"))\n",
        "\n",
        "# Calculate the sum\n",
        "total = num1 + num2\n",
        "\n",
        "# Print the result\n",
        "print(f\"The sum of {num1} and {num2} is: {total}\")\n"
      ]
    },
    {
      "cell_type": "markdown",
      "source": [
        "02_agreement_bot"
      ],
      "metadata": {
        "id": "io9v-Mt34FCP"
      }
    },
    {
      "cell_type": "code",
      "source": [
        "# Ask the user for their favorite animal\n",
        "animal = input(\"What's your favorite animal? \")\n",
        "\n",
        "# Respond with the user's input\n",
        "print(f\"My favorite animal is also {animal}!\")\n"
      ],
      "metadata": {
        "colab": {
          "base_uri": "https://localhost:8080/"
        },
        "id": "kh_N24D3KgMl",
        "outputId": "dca4651e-3e45-479e-dbc9-303dde638541"
      },
      "execution_count": null,
      "outputs": [
        {
          "output_type": "stream",
          "name": "stdout",
          "text": [
            "What's your favorite animal? cow\n",
            "My favorite animal is also cow!\n"
          ]
        }
      ]
    },
    {
      "cell_type": "markdown",
      "source": [
        "03_fahrenheit_to_celsius"
      ],
      "metadata": {
        "id": "XmVgCVTK4Kkz"
      }
    },
    {
      "cell_type": "code",
      "source": [
        "# Prompt the user for temperature in Fahrenheit\n",
        "fahrenheit = float(input(\"Enter temperature in Fahrenheit: \"))\n",
        "\n",
        "# Convert to Celsius\n",
        "celsius = (fahrenheit - 32) * 5.0 / 9.0\n",
        "\n",
        "# Print the result\n",
        "print(f\"Temperature: {fahrenheit}F = {celsius}C\")\n"
      ],
      "metadata": {
        "colab": {
          "base_uri": "https://localhost:8080/"
        },
        "id": "08shFa5mKzwA",
        "outputId": "52e647ab-3ee8-4da2-8b05-45aecc2b9148"
      },
      "execution_count": null,
      "outputs": [
        {
          "output_type": "stream",
          "name": "stdout",
          "text": [
            "Enter temperature in Fahrenheit: 67\n",
            "Temperature: 67.0F = 19.444444444444443C\n"
          ]
        }
      ]
    },
    {
      "cell_type": "markdown",
      "source": [
        "04_how_old_are_they"
      ],
      "metadata": {
        "id": "37bT-OUO4OXn"
      }
    },
    {
      "cell_type": "code",
      "source": [
        "# Assigning ages based on the riddle\n",
        "Anton = 21\n",
        "Beth = Anton + 6\n",
        "Chen = Beth + 20\n",
        "Drew = Chen + Anton\n",
        "Ethan = Chen\n",
        "\n",
        "# Printing the names and ages\n",
        "print(f\"Anton is {Anton} years old.\")\n",
        "print(f\"Beth is {Beth} years old.\")\n",
        "print(f\"Chen is {Chen} years old.\")\n",
        "print(f\"Drew is {Drew} years old.\")\n",
        "print(f\"Ethan is {Ethan} years old.\")\n"
      ],
      "metadata": {
        "colab": {
          "base_uri": "https://localhost:8080/"
        },
        "id": "qqLy6ZRwLCHv",
        "outputId": "6117054b-a47c-48ca-d767-30f88dfc139e"
      },
      "execution_count": null,
      "outputs": [
        {
          "output_type": "stream",
          "name": "stdout",
          "text": [
            "Anton is 21 years old.\n",
            "Beth is 27 years old.\n",
            "Chen is 47 years old.\n",
            "Drew is 68 years old.\n",
            "Ethan is 47 years old.\n"
          ]
        }
      ]
    },
    {
      "cell_type": "markdown",
      "source": [
        "05_triangle_perimeter"
      ],
      "metadata": {
        "id": "tTFvV-Hv4S2-"
      }
    },
    {
      "cell_type": "code",
      "source": [
        "# Prompt the user to enter the lengths of each side\n",
        "side1 = float(input(\"What is the length of side 1? \"))\n",
        "side2 = float(input(\"What is the length of side 2? \"))\n",
        "side3 = float(input(\"What is the length of side 3? \"))\n",
        "\n",
        "# Calculate the perimeter\n",
        "perimeter = side1 + side2 + side3\n",
        "\n",
        "# Print the result\n",
        "print(f\"The perimeter of the triangle is {perimeter}\")\n"
      ],
      "metadata": {
        "colab": {
          "base_uri": "https://localhost:8080/"
        },
        "id": "FFi4WVU_LNvt",
        "outputId": "04654944-7898-4721-986e-a282f0e3c5bc"
      },
      "execution_count": null,
      "outputs": [
        {
          "output_type": "stream",
          "name": "stdout",
          "text": [
            "What is the length of side 1? 3\n",
            "What is the length of side 2? 5\n",
            "What is the length of side 3? 7\n",
            "The perimeter of the triangle is 15.0\n"
          ]
        }
      ]
    },
    {
      "cell_type": "markdown",
      "source": [
        "06_square_number"
      ],
      "metadata": {
        "id": "QDxexG8l4Xiz"
      }
    },
    {
      "cell_type": "code",
      "source": [
        "# Prompt the user for a number\n",
        "num = float(input(\"Type a number to see its square: \"))\n",
        "\n",
        "# Calculate the square\n",
        "square = num * num\n",
        "\n",
        "# Print the result\n",
        "print(f\"{num} squared is {square}\")\n"
      ],
      "metadata": {
        "colab": {
          "base_uri": "https://localhost:8080/"
        },
        "id": "GUy1RAxhLZFN",
        "outputId": "faf093cf-0de1-4e09-abb9-bd501b0fcf04"
      },
      "execution_count": null,
      "outputs": [
        {
          "output_type": "stream",
          "name": "stdout",
          "text": [
            "Type a number to see its square: 4\n",
            "4.0 squared is 16.0\n"
          ]
        }
      ]
    }
  ]
}