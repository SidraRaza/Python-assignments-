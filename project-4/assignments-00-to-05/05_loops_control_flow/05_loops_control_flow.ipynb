{
  "nbformat": 4,
  "nbformat_minor": 0,
  "metadata": {
    "colab": {
      "provenance": []
    },
    "kernelspec": {
      "name": "python3",
      "display_name": "Python 3"
    },
    "language_info": {
      "name": "python"
    }
  },
  "cells": [
    {
      "cell_type": "markdown",
      "source": [
        "00_guess_my_number"
      ],
      "metadata": {
        "id": "8awrjC8RG8E5"
      }
    },
    {
      "cell_type": "code",
      "source": [
        "import random\n",
        "\n",
        "# The program randomly chooses a number between 0 and 99\n",
        "number_to_guess = random.randint(0, 10)\n",
        "\n",
        "# Welcome message\n",
        "print(\"I am thinking of a number between 0 and 99...\")\n",
        "\n",
        "# Loop for the guessing game\n",
        "while True:\n",
        "    # Ask the user to input their guess\n",
        "    guess = int(input(\"Enter a guess: \"))\n",
        "\n",
        "    # Check if the guess is correct, too high, or too low\n",
        "    if guess < number_to_guess:\n",
        "        print(\"Your guess is too low\")\n",
        "    elif guess > number_to_guess:\n",
        "        print(\"Your guess is too high\")\n",
        "    else:\n",
        "        print(f\"Congrats! The number was: {number_to_guess}\")\n",
        "        break  # End the game when the correct guess is made\n"
      ],
      "metadata": {
        "colab": {
          "base_uri": "https://localhost:8080/"
        },
        "id": "F8LzXvFAG_NE",
        "outputId": "3465975c-3486-4de0-cf55-0bd74bdf96cd"
      },
      "execution_count": null,
      "outputs": [
        {
          "output_type": "stream",
          "name": "stdout",
          "text": [
            "I am thinking of a number between 0 and 99...\n",
            "Enter a guess: 3\n",
            "Your guess is too low\n",
            "Enter a guess: 5\n",
            "Your guess is too low\n",
            "Enter a guess: 2\n",
            "Your guess is too low\n",
            "Enter a guess: 7\n",
            "Your guess is too low\n",
            "Enter a guess: 8\n",
            "Your guess is too low\n",
            "Enter a guess: 5\n",
            "Your guess is too low\n",
            "Enter a guess: 9\n",
            "Your guess is too low\n",
            "Enter a guess: 1\n",
            "Your guess is too low\n",
            "Enter a guess: 4\n",
            "Your guess is too low\n",
            "Enter a guess: 3\n",
            "Your guess is too low\n",
            "Enter a guess: 2\n",
            "Your guess is too low\n",
            "Enter a guess: 9\n",
            "Your guess is too low\n",
            "Enter a guess: 10\n",
            "Congrats! The number was: 10\n"
          ]
        }
      ]
    },
    {
      "cell_type": "markdown",
      "source": [
        "01_fibonacci"
      ],
      "metadata": {
        "id": "g8yx67WsHcKh"
      }
    },
    {
      "cell_type": "code",
      "source": [
        "# Define the maximum value for the Fibonacci sequence\n",
        "MAX_VALUE = 10000\n",
        "\n",
        "# Function to generate Fibonacci sequence\n",
        "def fibonacci_up_to_max_value():\n",
        "    # Start with the first two terms\n",
        "    a, b = 0, 1\n",
        "\n",
        "    # Loop to generate Fibonacci terms while they are less than MAX_VALUE\n",
        "    while a < MAX_VALUE:\n",
        "        print(a, end=\" \")  # Print the current term\n",
        "        a, b = b, a + b  # Update the values for the next terms\n",
        "\n",
        "# Call the function\n",
        "fibonacci_up_to_max_value()\n"
      ],
      "metadata": {
        "colab": {
          "base_uri": "https://localhost:8080/"
        },
        "id": "8NFvWWCtHkUC",
        "outputId": "e30c8090-c2d1-487b-b189-0f854b41d202"
      },
      "execution_count": null,
      "outputs": [
        {
          "output_type": "stream",
          "name": "stdout",
          "text": [
            "0 1 1 2 3 5 8 13 21 34 55 89 144 233 377 610 987 1597 2584 4181 6765 "
          ]
        }
      ]
    },
    {
      "cell_type": "markdown",
      "source": [
        "02_print_events"
      ],
      "metadata": {
        "id": "vjQNwkVgH0AC"
      }
    },
    {
      "cell_type": "code",
      "source": [
        "def main():\n",
        "    # Loop through the first 20 even numbers and print them\n",
        "    for i in range(20):\n",
        "        print(i * 2, end=\" \")\n",
        "\n",
        "if __name__ == '__main__':\n",
        "    main()\n"
      ],
      "metadata": {
        "colab": {
          "base_uri": "https://localhost:8080/"
        },
        "id": "1ly8-lGmIDRo",
        "outputId": "fa1bb7e0-6c9b-405d-a4dc-53df2e034ca7"
      },
      "execution_count": null,
      "outputs": [
        {
          "output_type": "stream",
          "name": "stdout",
          "text": [
            "0 2 4 6 8 10 12 14 16 18 20 22 24 26 28 30 32 34 36 38 "
          ]
        }
      ]
    },
    {
      "cell_type": "markdown",
      "source": [
        "03_wholesome_machine"
      ],
      "metadata": {
        "id": "rUfOy-c5Ig0c"
      }
    },
    {
      "cell_type": "code",
      "source": [
        "def main():\n",
        "    # The affirmation message\n",
        "    affirmation = \"I am capable of doing anything I put my mind to.\"\n",
        "\n",
        "    # Keep prompting the user until they type the affirmation correctly\n",
        "    while True:\n",
        "        user_input = input(\"Please type the following affirmation: \" + affirmation + \"\\n\")\n",
        "\n",
        "        if user_input == affirmation:\n",
        "            print(\"That's right! :)\")\n",
        "            break  # Exit the loop if the affirmation is typed correctly\n",
        "        else:\n",
        "            print(\"Hmmm That was not the affirmation. Please try again.\")\n",
        "\n",
        "if __name__ == '__main__':\n",
        "    main()\n"
      ],
      "metadata": {
        "colab": {
          "base_uri": "https://localhost:8080/"
        },
        "id": "UCNL8XKGIbZn",
        "outputId": "5327b017-477b-434e-9716-c1eb53576afc"
      },
      "execution_count": null,
      "outputs": [
        {
          "output_type": "stream",
          "name": "stdout",
          "text": [
            "Please type the following affirmation: I am capable of doing anything I put my mind to.\n",
            "\n",
            "Hmmm That was not the affirmation. Please try again.\n",
            "Please type the following affirmation: I am capable of doing anything I put my mind to.\n",
            "\n",
            "Hmmm That was not the affirmation. Please try again.\n",
            "Please type the following affirmation: I am capable of doing anything I put my mind to.\n",
            "That's right!\n",
            "Hmmm That was not the affirmation. Please try again.\n",
            "Please type the following affirmation: I am capable of doing anything I put my mind to.\n",
            "I am capable of doing anything I put my mind to.\n",
            "That's right! :)\n"
          ]
        }
      ]
    },
    {
      "cell_type": "markdown",
      "source": [
        "04_liftoff"
      ],
      "metadata": {
        "id": "gwiAoZ0_I9Vd"
      }
    },
    {
      "cell_type": "code",
      "source": [
        "def main():\n",
        "    # Countdown from 10 to 1\n",
        "    for i in range(10, 0, -1):\n",
        "        print(i, end=\" \")\n",
        "\n",
        "    # After the countdown, print \"Liftoff!\"\n",
        "    print(\"Liftoff!\")\n",
        "\n",
        "# This provided line is required at the end of\n",
        "# Python file to call the main() function.\n",
        "if __name__ == '__main__':\n",
        "    main()\n"
      ],
      "metadata": {
        "colab": {
          "base_uri": "https://localhost:8080/"
        },
        "id": "11vW_R99Isrt",
        "outputId": "6e1d90e3-940a-4115-909d-128d728b7be9"
      },
      "execution_count": null,
      "outputs": [
        {
          "output_type": "stream",
          "name": "stdout",
          "text": [
            "10 9 8 7 6 5 4 3 2 1 Liftoff!\n"
          ]
        }
      ]
    },
    {
      "cell_type": "markdown",
      "source": [
        "05_double_it"
      ],
      "metadata": {
        "id": "uzGnZKMMI4iO"
      }
    },
    {
      "cell_type": "code",
      "source": [
        "def main():\n",
        "    # Ask the user for a number\n",
        "    curr_value = int(input(\"Enter a number: \"))\n",
        "\n",
        "    # Keep doubling the number until it reaches 100 or more\n",
        "    while curr_value < 100:\n",
        "        curr_value = curr_value * 2\n",
        "        print(curr_value, end=\" \")\n",
        "\n",
        "# This provided line is required at the end of\n",
        "# Python file to call the main() function.\n",
        "if __name__ == '__main__':\n",
        "    main()\n"
      ],
      "metadata": {
        "colab": {
          "base_uri": "https://localhost:8080/"
        },
        "id": "oVAuzIXIJJl7",
        "outputId": "d3cf3082-4c81-4007-ade9-283afa4e6a64"
      },
      "execution_count": null,
      "outputs": [
        {
          "output_type": "stream",
          "name": "stdout",
          "text": [
            "Enter a number: 56\n",
            "112 "
          ]
        }
      ]
    }
  ]
}