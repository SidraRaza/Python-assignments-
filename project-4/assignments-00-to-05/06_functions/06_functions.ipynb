{
  "nbformat": 4,
  "nbformat_minor": 0,
  "metadata": {
    "colab": {
      "provenance": []
    },
    "kernelspec": {
      "name": "python3",
      "display_name": "Python 3"
    },
    "language_info": {
      "name": "python"
    }
  },
  "cells": [
    {
      "cell_type": "markdown",
      "source": [
        "00_averages"
      ],
      "metadata": {
        "id": "ffGniFXZ9L6H"
      }
    },
    {
      "cell_type": "code",
      "source": [
        "def find_average(num1, num2):\n",
        "    return (num1 + num2) / 2\n",
        "\n",
        "def main():\n",
        "    # Ask the user for two numbers\n",
        "    num1 = float(input(\"Enter the first number: \"))\n",
        "    num2 = float(input(\"Enter the second number: \"))\n",
        "\n",
        "    # Call the function to find the average\n",
        "    avg = find_average(num1, num2)\n",
        "\n",
        "    # Print the result\n",
        "    print(\"The average is:\", avg)\n",
        "\n",
        "if __name__ == '__main__':\n",
        "    main()\n"
      ],
      "metadata": {
        "colab": {
          "base_uri": "https://localhost:8080/"
        },
        "id": "gtVIomfj9col",
        "outputId": "a79b307f-4e8f-4252-f455-a80d2aec76fd"
      },
      "execution_count": null,
      "outputs": [
        {
          "output_type": "stream",
          "name": "stdout",
          "text": [
            "Enter the first number: 34\n",
            "Enter the second number: 56\n",
            "The average is: 45.0\n"
          ]
        }
      ]
    },
    {
      "cell_type": "markdown",
      "source": [
        "01_chaotic_counting"
      ],
      "metadata": {
        "id": "irYcJ7dT952b"
      }
    },
    {
      "cell_type": "code",
      "source": [
        "import random\n",
        "\n",
        "DONE_LIKELIHOOD = 0.3  # 30% chance of being \"done\" at any step\n",
        "\n",
        "def done():\n",
        "    return random.random() < DONE_LIKELIHOOD\n",
        "\n",
        "def chaotic_counting():\n",
        "    for i in range(1, 11):\n",
        "        if done():\n",
        "            return  # Stop early if done() returns True\n",
        "        print(i)\n",
        "\n",
        "def main():\n",
        "    print(\"I'm going to count until 10 or until I feel like stopping, whichever comes first.\")\n",
        "    chaotic_counting()\n",
        "    print(\"I'm done.\")\n",
        "\n",
        "if __name__ == '__main__':\n",
        "    main()\n"
      ],
      "metadata": {
        "colab": {
          "base_uri": "https://localhost:8080/"
        },
        "id": "H4W0mnFd98ZG",
        "outputId": "b0eb2b3c-6a8e-48ca-c2c9-1366648b2565"
      },
      "execution_count": null,
      "outputs": [
        {
          "output_type": "stream",
          "name": "stdout",
          "text": [
            "I'm going to count until 10 or until I feel like stopping, whichever comes first.\n",
            "1\n",
            "I'm done.\n"
          ]
        }
      ]
    },
    {
      "cell_type": "markdown",
      "source": [
        "02_count_even"
      ],
      "metadata": {
        "id": "pynzifC2-HVE"
      }
    },
    {
      "cell_type": "code",
      "source": [
        "def count_even():\n",
        "    lst = []\n",
        "\n",
        "    while True:\n",
        "        user_input = input(\"Enter an integer or press enter to stop: \")\n",
        "        if user_input == \"\":\n",
        "            break\n",
        "        try:\n",
        "            num = int(user_input)\n",
        "            lst.append(num)\n",
        "        except ValueError:\n",
        "            print(\"Please enter a valid integer.\")\n",
        "\n",
        "    # Count even numbers\n",
        "    even_count = 0\n",
        "    for num in lst:\n",
        "        if num % 2 == 0:\n",
        "            even_count += 1\n",
        "\n",
        "    print(\"Number of even numbers:\", even_count)\n",
        "\n",
        "\n",
        "if __name__ == '__main__':\n",
        "    count_even()\n"
      ],
      "metadata": {
        "colab": {
          "base_uri": "https://localhost:8080/"
        },
        "id": "C6GAhdYY-QM-",
        "outputId": "a045814b-dac3-488a-f3b3-81f7d256cd3d"
      },
      "execution_count": null,
      "outputs": [
        {
          "output_type": "stream",
          "name": "stdout",
          "text": [
            "Enter an integer or press enter to stop: 34\n",
            "Enter an integer or press enter to stop: 34\n",
            "Enter an integer or press enter to stop: \n",
            "Number of even numbers: 2\n"
          ]
        }
      ]
    },
    {
      "cell_type": "markdown",
      "source": [
        "04_double"
      ],
      "metadata": {
        "id": "xGfx-kpR-hF-"
      }
    },
    {
      "cell_type": "code",
      "source": [
        "def double(num):\n",
        "    return num * 2\n",
        "\n",
        "def main():\n",
        "    user_input = input(\"Enter a number: \")\n",
        "    num = int(user_input)\n",
        "    result = double(num)\n",
        "    print(\"Double that is\", result)\n",
        "\n",
        "if __name__ == '__main__':\n",
        "    main()\n"
      ],
      "metadata": {
        "colab": {
          "base_uri": "https://localhost:8080/"
        },
        "id": "xnbb7azR-iCa",
        "outputId": "f3b373d7-0c72-4d4a-8770-79f18b2b020b"
      },
      "execution_count": null,
      "outputs": [
        {
          "output_type": "stream",
          "name": "stdout",
          "text": [
            "Enter a number: 43\n",
            "Double that is 86\n"
          ]
        }
      ]
    },
    {
      "cell_type": "markdown",
      "source": [
        "05_get_name"
      ],
      "metadata": {
        "id": "OIWSKM6s_TGV"
      }
    },
    {
      "cell_type": "code",
      "source": [
        "def get_name():\n",
        "    return \"Sophia\"\n",
        "\n",
        "def main():\n",
        "    name = get_name()\n",
        "    print(\"Howdy\", name, \"! 🤠\")\n",
        "\n",
        "if __name__ == '__main__':\n",
        "    main()\n"
      ],
      "metadata": {
        "colab": {
          "base_uri": "https://localhost:8080/"
        },
        "id": "iCTzZTHG_T-8",
        "outputId": "444fa155-7b27-4c7a-e25a-69adf4185d94"
      },
      "execution_count": null,
      "outputs": [
        {
          "output_type": "stream",
          "name": "stdout",
          "text": [
            "Howdy Sophia ! 🤠\n"
          ]
        }
      ]
    },
    {
      "cell_type": "markdown",
      "source": [
        "06_is_odd"
      ],
      "metadata": {
        "id": "AhyN6cVG_nWo"
      }
    },
    {
      "cell_type": "code",
      "source": [
        "def main():\n",
        "    for num in range(10, 20):\n",
        "        if num % 2 == 0:\n",
        "            print(f\"{num} even\", end=\" \")\n",
        "        else:\n",
        "            print(f\"{num} odd\", end=\" \")\n",
        "\n",
        "if __name__ == '__main__':\n",
        "    main()\n"
      ],
      "metadata": {
        "colab": {
          "base_uri": "https://localhost:8080/"
        },
        "id": "D9NFonQ-_oK9",
        "outputId": "5b802cf8-6584-45ff-a81b-fb7899d312b0"
      },
      "execution_count": null,
      "outputs": [
        {
          "output_type": "stream",
          "name": "stdout",
          "text": [
            "10 even 11 odd 12 even 13 odd 14 even 15 odd 16 even 17 odd 18 even 19 odd "
          ]
        }
      ]
    },
    {
      "cell_type": "markdown",
      "source": [
        "07_print_divisor"
      ],
      "metadata": {
        "id": "bde15SxX_zIO"
      }
    },
    {
      "cell_type": "code",
      "source": [
        "def print_divisors(num):\n",
        "    print(f\"Here are the divisors of {num}\")\n",
        "    for i in range(1, num + 1):\n",
        "        if num % i == 0:\n",
        "            print(i, end=\" \")\n",
        "\n",
        "def main():\n",
        "    num = int(input(\"Enter a number: \"))\n",
        "    print_divisors(num)\n",
        "\n",
        "if __name__ == '__main__':\n",
        "    main()\n"
      ],
      "metadata": {
        "colab": {
          "base_uri": "https://localhost:8080/"
        },
        "id": "OYf761Ci_z8C",
        "outputId": "f37b0a24-0492-403b-a2fa-8215729f6b07"
      },
      "execution_count": null,
      "outputs": [
        {
          "output_type": "stream",
          "name": "stdout",
          "text": [
            "Enter a number: 45\n",
            "Here are the divisors of 45\n",
            "1 3 5 9 15 45 "
          ]
        }
      ]
    },
    {
      "cell_type": "markdown",
      "source": [
        "08_print_multiple"
      ],
      "metadata": {
        "id": "2YHWPIcRAD1c"
      }
    },
    {
      "cell_type": "code",
      "source": [
        "def print_multiple(message, repeats):\n",
        "    for _ in range(repeats):\n",
        "        print(message)\n",
        "\n",
        "def main():\n",
        "    message = input(\"Please type a message: \")\n",
        "    repeats = int(input(\"Enter a number of times to repeat your message: \"))\n",
        "    print_multiple(message, repeats)\n",
        "\n",
        "if __name__ == '__main__':\n",
        "    main()\n"
      ],
      "metadata": {
        "colab": {
          "base_uri": "https://localhost:8080/"
        },
        "id": "Ae8DDklXAEw_",
        "outputId": "da9ca0c0-3515-407d-ea55-a02555cbf968"
      },
      "execution_count": null,
      "outputs": [
        {
          "output_type": "stream",
          "name": "stdout",
          "text": [
            "Please type a message: the\n",
            "Enter a number of times to repeat your message: 3\n",
            "the\n",
            "the\n",
            "the\n"
          ]
        }
      ]
    },
    {
      "cell_type": "markdown",
      "source": [
        "09_sentence_generator"
      ],
      "metadata": {
        "id": "PLaRumBXBCSW"
      }
    },
    {
      "cell_type": "code",
      "source": [
        "def make_sentence(word, part_of_speech):\n",
        "    if part_of_speech == 0:\n",
        "        print(f\"I am excited to add this {word} to my vast collection of them!\")\n",
        "    elif part_of_speech == 1:\n",
        "        print(f\"It's so nice outside today it makes me want to {word}!\")\n",
        "    elif part_of_speech == 2:\n",
        "        print(f\"Looking out my window, the sky is big and {word}!\")\n",
        "    else:\n",
        "        print(\"Invalid part of speech. Please enter 0 for noun, 1 for verb, or 2 for adjective.\")\n",
        "\n",
        "def main():\n",
        "    word = input(\"Please type a noun, verb, or adjective: \")\n",
        "    part = int(input(\"Is this a noun, verb, or adjective? Type 0 for noun, 1 for verb, 2 for adjective: \"))\n",
        "    make_sentence(word, part)\n",
        "\n",
        "if __name__ == '__main__':\n",
        "    main()\n"
      ],
      "metadata": {
        "colab": {
          "base_uri": "https://localhost:8080/"
        },
        "id": "nSXvuS1aBDea",
        "outputId": "678a548c-176a-481a-c222-01fea7c83f4a"
      },
      "execution_count": null,
      "outputs": [
        {
          "output_type": "stream",
          "name": "stdout",
          "text": [
            "Please type a noun, verb, or adjective: a\n",
            "Is this a noun, verb, or adjective? Type 0 for noun, 1 for verb, 2 for adjective: 1\n",
            "It's so nice outside today it makes me want to a!\n"
          ]
        }
      ]
    },
    {
      "cell_type": "markdown",
      "source": [
        "10_print_ones_digit"
      ],
      "metadata": {
        "id": "tEMJ5h2RBZ5g"
      }
    },
    {
      "cell_type": "code",
      "source": [
        "def print_ones_digit(num):\n",
        "    ones_digit = num % 10  # Get the ones digit using the modulo operator\n",
        "    print(f\"The ones digit is {ones_digit}\")\n",
        "\n",
        "def main():\n",
        "    num = int(input(\"Enter a number: \"))  # Prompt the user for an integer input\n",
        "    print_ones_digit(num)  # Call the function to print the ones digit\n",
        "\n",
        "if __name__ == '__main__':\n",
        "    main()\n"
      ],
      "metadata": {
        "colab": {
          "base_uri": "https://localhost:8080/"
        },
        "id": "WorMOHeoBa5_",
        "outputId": "a3759aba-ce2f-4204-b38f-cdde3b6c157a"
      },
      "execution_count": null,
      "outputs": [
        {
          "output_type": "stream",
          "name": "stdout",
          "text": [
            "Enter a number: 24\n",
            "The ones digit is 4\n"
          ]
        }
      ]
    }
  ]
}