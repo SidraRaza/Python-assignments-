{
  "nbformat": 4,
  "nbformat_minor": 0,
  "metadata": {
    "colab": {
      "provenance": []
    },
    "kernelspec": {
      "name": "python3",
      "display_name": "Python 3"
    },
    "language_info": {
      "name": "python"
    }
  },
  "cells": [
    {
      "cell_type": "code",
      "execution_count": null,
      "metadata": {
        "colab": {
          "base_uri": "https://localhost:8080/"
        },
        "id": "-wh3a9H7-aT0",
        "outputId": "53b605fb-8bab-482a-8c49-821339673de3"
      },
      "outputs": [
        {
          "output_type": "stream",
          "name": "stdout",
          "text": [
            "Enter a number: 3\n",
            "Enter a number: 45\n",
            "Enter a number: 8\n",
            "Enter a number: \n",
            "3 appears 1 times.\n",
            "45 appears 1 times.\n",
            "8 appears 1 times.\n"
          ]
        }
      ],
      "source": [
        "def main():\n",
        "    counts = {}\n",
        "\n",
        "    while True:\n",
        "        num = input(\"Enter a number: \")\n",
        "        if num == \"\":\n",
        "            break\n",
        "\n",
        "        try:\n",
        "            num = int(num)\n",
        "            if num in counts:\n",
        "                counts[num] += 1\n",
        "            else:\n",
        "                counts[num] = 1\n",
        "        except ValueError:\n",
        "            print(\"Please enter a valid number.\")\n",
        "\n",
        "    for number, count in counts.items():\n",
        "        print(f\"{number} appears {count} times.\")\n",
        "\n",
        "if __name__ == '__main__':\n",
        "    main()\n"
      ]
    },
    {
      "cell_type": "code",
      "source": [
        "def main():\n",
        "    phonebook = {}\n",
        "\n",
        "    while True:\n",
        "        print(\"\\nPhonebook Menu:\")\n",
        "        print(\"1. Add contact\")\n",
        "        print(\"2. Look up contact\")\n",
        "        print(\"3. Show all contacts\")\n",
        "        print(\"4. Exit\")\n",
        "\n",
        "        choice = input(\"Choose an option (1-4): \")\n",
        "\n",
        "        if choice == \"1\":\n",
        "            name = input(\"Enter name: \")\n",
        "            number = input(\"Enter phone number: \")\n",
        "            phonebook[name] = number\n",
        "            print(f\"{name} has been added to the phonebook.\")\n",
        "\n",
        "        elif choice == \"2\":\n",
        "            name = input(\"Enter name to look up: \")\n",
        "            if name in phonebook:\n",
        "                print(f\"{name}'s number is {phonebook[name]}\")\n",
        "            else:\n",
        "                print(f\"{name} not found in the phonebook.\")\n",
        "\n",
        "        elif choice == \"3\":\n",
        "            if phonebook:\n",
        "                print(\"\\nPhonebook entries:\")\n",
        "                for name, number in phonebook.items():\n",
        "                    print(f\"{name}: {number}\")\n",
        "            else:\n",
        "                print(\"Phonebook is empty.\")\n",
        "\n",
        "        elif choice == \"4\":\n",
        "            print(\"Exiting phonebook. Goodbye!\")\n",
        "            break\n",
        "\n",
        "        else:\n",
        "            print(\"Invalid option. Please choose 1–4.\")\n",
        "\n",
        "if __name__ == '__main__':\n",
        "    main()\n"
      ],
      "metadata": {
        "colab": {
          "base_uri": "https://localhost:8080/"
        },
        "id": "yUEATtiV_B71",
        "outputId": "93ffe713-c15f-4460-fb84-945c4c9730b4"
      },
      "execution_count": null,
      "outputs": [
        {
          "output_type": "stream",
          "name": "stdout",
          "text": [
            "\n",
            "Phonebook Menu:\n",
            "1. Add contact\n",
            "2. Look up contact\n",
            "3. Show all contacts\n",
            "4. Exit\n",
            "Choose an option (1-4): 1\n",
            "Enter name: sidra\n",
            "Enter phone number: 03000873246\n",
            "sidra has been added to the phonebook.\n",
            "\n",
            "Phonebook Menu:\n",
            "1. Add contact\n",
            "2. Look up contact\n",
            "3. Show all contacts\n",
            "4. Exit\n",
            "Choose an option (1-4): 2\n",
            "Enter name to look up: sidra\n",
            "sidra's number is 03000873246\n",
            "\n",
            "Phonebook Menu:\n",
            "1. Add contact\n",
            "2. Look up contact\n",
            "3. Show all contacts\n",
            "4. Exit\n",
            "Choose an option (1-4): 4\n",
            "Exiting phonebook. Goodbye!\n"
          ]
        }
      ]
    },
    {
      "cell_type": "code",
      "source": [
        "def main():\n",
        "    fruits = {\n",
        "        \"apple\": 5.0,\n",
        "        \"durian\": 20.0,\n",
        "        \"jackfruit\": 15.0,\n",
        "        \"kiwi\": 7.5,\n",
        "        \"rambutan\": 12.0,\n",
        "        \"mango\": 10.0\n",
        "    }\n",
        "\n",
        "    total_cost = 0.0\n",
        "\n",
        "    for fruit, price in fruits.items():\n",
        "        try:\n",
        "            quantity = int(input(f\"How many ({fruit}) do you want?: \"))\n",
        "            total_cost += quantity * price\n",
        "        except ValueError:\n",
        "            print(\"Please enter a valid number. Skipping this fruit.\")\n",
        "\n",
        "    print(f\"\\nYour total is ${total_cost:.2f}\")\n",
        "\n",
        "if __name__ == '__main__':\n",
        "    main()\n"
      ],
      "metadata": {
        "colab": {
          "base_uri": "https://localhost:8080/"
        },
        "id": "OScASNYY_dvn",
        "outputId": "56004ce6-49f8-4c15-b736-a726ff93b311"
      },
      "execution_count": null,
      "outputs": [
        {
          "output_type": "stream",
          "name": "stdout",
          "text": [
            "How many (apple) do you want?: 23\n",
            "How many (durian) do you want?: 1\n",
            "How many (jackfruit) do you want?: \n",
            "Please enter a valid number. Skipping this fruit.\n",
            "How many (kiwi) do you want?: 0\n",
            "How many (rambutan) do you want?: 0\n",
            "How many (mango) do you want?: 0\n",
            "\n",
            "Your total is $135.00\n"
          ]
        }
      ]
    },
    {
      "cell_type": "code",
      "source": [
        "import hashlib\n",
        "\n",
        "# Function to hash the password using SHA256\n",
        "def hash_password(password):\n",
        "    return hashlib.sha256(password.encode()).hexdigest()\n",
        "\n",
        "# Sample stored logins dictionary (email -> hashed password)\n",
        "stored_logins = {\n",
        "    \"sidraraza@gmail.com\": hash_password(\"87626\"),\n",
        "    \"ahed880011@gmail.com\": hash_password(\"87626\")\n",
        "}\n",
        "\n",
        "# The login function that checks the password hash\n",
        "def login(email, password_to_check):\n",
        "    # Hash the input password to compare with the stored hash\n",
        "    hashed_password = hash_password(password_to_check)\n",
        "\n",
        "    # Check if the email exists in the stored_logins dictionary and compare the hashes\n",
        "    if email in stored_logins and stored_logins[email] == hashed_password:\n",
        "        return True\n",
        "    return False\n",
        "\n",
        "# Example Usage\n",
        "email_input = input(\"Enter your email: \")\n",
        "password_input = input(\"Enter your password: \")\n",
        "\n",
        "if login(email_input, password_input):\n",
        "    print(\"Login successful!\")\n",
        "else:\n",
        "    print(\"Invalid email or password.\")\n"
      ],
      "metadata": {
        "colab": {
          "base_uri": "https://localhost:8080/"
        },
        "id": "twckSAA-_4rm",
        "outputId": "6c42b8e6-ff49-4374-a0dc-f1728b604344"
      },
      "execution_count": null,
      "outputs": [
        {
          "output_type": "stream",
          "name": "stdout",
          "text": [
            "Enter your email: sidraraza@gmail.com\n",
            "Enter your password: 87626\n",
            "Login successful!\n"
          ]
        }
      ]
    }
  ]
}