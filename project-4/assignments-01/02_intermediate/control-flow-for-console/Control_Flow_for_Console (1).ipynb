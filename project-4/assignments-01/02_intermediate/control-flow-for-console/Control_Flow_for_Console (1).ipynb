{
  "nbformat": 4,
  "nbformat_minor": 0,
  "metadata": {
    "colab": {
      "provenance": []
    },
    "kernelspec": {
      "name": "python3",
      "display_name": "Python 3"
    },
    "language_info": {
      "name": "python"
    }
  },
  "cells": [
    {
      "cell_type": "markdown",
      "source": [
        "Control Flow for Console"
      ],
      "metadata": {
        "id": "B4SgaOvcMn3m"
      }
    },
    {
      "cell_type": "code",
      "source": [
        "import random\n",
        "\n",
        "NUM_ROUNDS = 5  # You can change this number to play more or fewer rounds\n",
        "\n",
        "def main():\n",
        "    print(\"Welcome to the High-Low Game!\")\n",
        "    print(\"--------------------------------\")\n",
        "\n",
        "    score = 0\n",
        "\n",
        "    for round_num in range(1, NUM_ROUNDS + 1):\n",
        "        print(f\"Round {round_num}\")\n",
        "\n",
        "        user_number = random.randint(1, 100)\n",
        "        computer_number = random.randint(1, 100)\n",
        "\n",
        "        print(f\"Your number is {user_number}\")\n",
        "\n",
        "        # Input validation loop\n",
        "        guess = input(\"Do you think your number is higher or lower than the computer's?: \").strip().lower()\n",
        "        while guess not in [\"higher\", \"lower\"]:\n",
        "            guess = input(\"Please enter either higher or lower: \").strip().lower()\n",
        "\n",
        "        # Game logic\n",
        "        if user_number == computer_number:\n",
        "            print(f\"Aww, that's incorrect. The computer's number was {computer_number}\")\n",
        "        elif (guess == \"higher\" and user_number > computer_number) or (guess == \"lower\" and user_number < computer_number):\n",
        "            print(f\"You were right! The computer's number was {computer_number}\")\n",
        "            score += 1\n",
        "        else:\n",
        "            print(f\"Aww, that's incorrect. The computer's number was {computer_number}\")\n",
        "\n",
        "        print(f\"Your score is now {score}\\n\")  # Newline to separate rounds visually\n",
        "\n",
        "    # Final results\n",
        "    print(\"Thanks for playing!\")\n",
        "\n",
        "    if score == NUM_ROUNDS:\n",
        "        print(\"Wow! You played perfectly!\")\n",
        "    elif score >= NUM_ROUNDS // 2:\n",
        "        print(\"Good job, you played really well!\")\n",
        "    else:\n",
        "        print(\"Better luck next time!\")\n",
        "\n",
        "# Run the game\n",
        "if __name__ == '__main__':\n",
        "    main()\n"
      ],
      "metadata": {
        "colab": {
          "base_uri": "https://localhost:8080/"
        },
        "id": "BBLTSikENE1O",
        "outputId": "fbdd95a4-15c0-4528-f970-28c6fdd8a105"
      },
      "execution_count": null,
      "outputs": [
        {
          "output_type": "stream",
          "name": "stdout",
          "text": [
            "Welcome to the High-Low Game!\n",
            "--------------------------------\n",
            "Round 1\n",
            "Your number is 63\n",
            "Do you think your number is higher or lower than the computer's?: higher\n",
            "You were right! The computer's number was 53\n",
            "Your score is now 1\n",
            "\n",
            "Round 2\n",
            "Your number is 98\n",
            "Do you think your number is higher or lower than the computer's?: \n",
            "Please enter either higher or lower: 45\n",
            "Please enter either higher or lower: 23\n",
            "Please enter either higher or lower: 5\n",
            "Please enter either higher or lower: 89\n",
            "Please enter either higher or lower: lower\n",
            "Aww, that's incorrect. The computer's number was 6\n",
            "Your score is now 1\n",
            "\n",
            "Round 3\n",
            "Your number is 76\n",
            "Do you think your number is higher or lower than the computer's?: higher\n",
            "Aww, that's incorrect. The computer's number was 77\n",
            "Your score is now 1\n",
            "\n",
            "Round 4\n",
            "Your number is 29\n",
            "Do you think your number is higher or lower than the computer's?: lower\n",
            "You were right! The computer's number was 93\n",
            "Your score is now 2\n",
            "\n",
            "Round 5\n",
            "Your number is 82\n",
            "Do you think your number is higher or lower than the computer's?: higher\n",
            "You were right! The computer's number was 51\n",
            "Your score is now 3\n",
            "\n",
            "Thanks for playing!\n",
            "Good job, you played really well!\n"
          ]
        }
      ]
    }
  ]
}