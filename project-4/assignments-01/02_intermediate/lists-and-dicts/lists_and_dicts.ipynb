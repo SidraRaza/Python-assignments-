{
  "nbformat": 4,
  "nbformat_minor": 0,
  "metadata": {
    "colab": {
      "provenance": []
    },
    "kernelspec": {
      "name": "python3",
      "display_name": "Python 3"
    },
    "language_info": {
      "name": "python"
    }
  },
  "cells": [
    {
      "cell_type": "code",
      "execution_count": 1,
      "metadata": {
        "colab": {
          "base_uri": "https://localhost:8080/"
        },
        "id": "RuorATBtCmfI",
        "outputId": "b1c9cf05-7a84-49d5-edac-991effba4a0a"
      },
      "outputs": [
        {
          "output_type": "stream",
          "name": "stdout",
          "text": [
            "Length of the list: 5\n",
            "Updated fruit list: ['apple', 'banana', 'orange', 'grape', 'pineapple', 'mango']\n"
          ]
        }
      ],
      "source": [
        "def main():\n",
        "    # Create a list called fruit_list\n",
        "    fruit_list = ['apple', 'banana', 'orange', 'grape', 'pineapple']\n",
        "\n",
        "    # Print the length of the list\n",
        "    print(\"Length of the list:\", len(fruit_list))\n",
        "\n",
        "    # Add 'mango' at the end of the list\n",
        "    fruit_list.append('mango')\n",
        "\n",
        "    # Print the updated list\n",
        "    print(\"Updated fruit list:\", fruit_list)\n",
        "\n",
        "main()"
      ]
    },
    {
      "cell_type": "code",
      "source": [
        "# Function to access an element from the list by index\n",
        "def access_element(lst, index):\n",
        "    if index < 0 or index >= len(lst):\n",
        "        return \"Index out of range!\"\n",
        "    return lst[index]\n",
        "\n",
        "# Function to modify an element in the list by index\n",
        "def modify_element(lst, index, new_value):\n",
        "    if index < 0 or index >= len(lst):\n",
        "        return \"Index out of range!\"\n",
        "    lst[index] = new_value\n",
        "    return lst\n",
        "\n",
        "# Function to slice the list\n",
        "def slice_list(lst, start, end):\n",
        "    if start < 0 or end > len(lst) or start > end:\n",
        "        return \"Invalid slice range!\"\n",
        "    return lst[start:end]\n",
        "\n",
        "# Game Interaction\n",
        "def game():\n",
        "    lst = [1, 'apple', 3.5, 'banana', 7]  # Example list\n",
        "    print(\"Welcome to the Index Game!\")\n",
        "\n",
        "    while True:\n",
        "        # Prompt the user to select an operation\n",
        "        print(\"\\nChoose an operation:\")\n",
        "        print(\"1. Access an element\")\n",
        "        print(\"2. Modify an element\")\n",
        "        print(\"3. Slice the list\")\n",
        "        print(\"4. Exit\")\n",
        "\n",
        "        choice = input(\"Enter your choice (1/2/3/4): \")\n",
        "\n",
        "        if choice == '1':\n",
        "            # Access an element\n",
        "            index = int(input(\"Enter the index to access: \"))\n",
        "            result = access_element(lst, index)\n",
        "            print(\"Result:\", result)\n",
        "\n",
        "        elif choice == '2':\n",
        "            # Modify an element\n",
        "            index = int(input(\"Enter the index to modify: \"))\n",
        "            new_value = input(\"Enter the new value: \")\n",
        "            result = modify_element(lst, index, new_value)\n",
        "            print(\"Updated list:\", result)\n",
        "\n",
        "        elif choice == '3':\n",
        "            # Slice the list\n",
        "            start = int(input(\"Enter the start index: \"))\n",
        "            end = int(input(\"Enter the end index: \"))\n",
        "            result = slice_list(lst, start, end)\n",
        "            print(\"Sliced list:\", result)\n",
        "\n",
        "        elif choice == '4':\n",
        "            print(\"Thanks for playing!\")\n",
        "            break\n",
        "\n",
        "        else:\n",
        "            print(\"Invalid choice. Please try again.\")\n",
        "\n",
        "        print(\"Current list:\", lst)\n",
        "\n",
        "# Run the game\n",
        "game()\n"
      ],
      "metadata": {
        "colab": {
          "base_uri": "https://localhost:8080/"
        },
        "id": "JZMNO9Y6C0Uk",
        "outputId": "d9bac0ce-2500-4552-bd51-419b446bd10f"
      },
      "execution_count": null,
      "outputs": [
        {
          "output_type": "stream",
          "name": "stdout",
          "text": [
            "Welcome to the Index Game!\n",
            "\n",
            "Choose an operation:\n",
            "1. Access an element\n",
            "2. Modify an element\n",
            "3. Slice the list\n",
            "4. Exit\n"
          ]
        }
      ]
    }
  ]
}