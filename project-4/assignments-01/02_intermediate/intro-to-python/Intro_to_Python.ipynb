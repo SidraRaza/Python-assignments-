{
  "nbformat": 4,
  "nbformat_minor": 0,
  "metadata": {
    "colab": {
      "provenance": []
    },
    "kernelspec": {
      "name": "python3",
      "display_name": "Python 3"
    },
    "language_info": {
      "name": "python"
    }
  },
  "cells": [
    {
      "cell_type": "code",
      "execution_count": 1,
      "metadata": {
        "colab": {
          "base_uri": "https://localhost:8080/"
        },
        "id": "WdLcJE01CHDt",
        "outputId": "922c83f7-7770-472b-c442-880fb1ca1161"
      },
      "outputs": [
        {
          "output_type": "stream",
          "name": "stdout",
          "text": [
            "Enter a weight on Earth: 87482\n",
            "The equivalent on Mars: 33068.2\n"
          ]
        }
      ],
      "source": [
        "# Milestone #1: Mars Weight Calculator\n",
        "\n",
        "# Ask the user for their Earth weight\n",
        "earth_weight = float(input(\"Enter a weight on Earth: \"))\n",
        "\n",
        "# Calculate Mars weight (37.8% of Earth weight)\n",
        "mars_weight = earth_weight * 0.378\n",
        "\n",
        "# Round to 2 decimal places\n",
        "rounded_mars_weight = round(mars_weight, 2)\n",
        "\n",
        "# Show result\n",
        "print(\"The equivalent on Mars:\", rounded_mars_weight)"
      ]
    },
    {
      "cell_type": "code",
      "source": [
        "# Milestone #2: All Planets Weight Calculator\n",
        "\n",
        "# Dictionary storing gravity factors\n",
        "gravity_factors = {\n",
        "    \"Mercury\": 0.376,\n",
        "    \"Venus\": 0.889,\n",
        "    \"Mars\": 0.378,\n",
        "    \"Jupiter\": 2.36,\n",
        "    \"Saturn\": 1.081,\n",
        "    \"Uranus\": 0.815,\n",
        "    \"Neptune\": 1.14\n",
        "}\n",
        "\n",
        "# Get user input\n",
        "earth_weight = float(input(\"Enter a weight on Earth: \"))\n",
        "planet = input(\"Enter a planet: \")\n",
        "\n",
        "# Get the gravity factor for the chosen planet\n",
        "if planet in gravity_factors:\n",
        "    gravity = gravity_factors[planet]\n",
        "    planet_weight = round(earth_weight * gravity, 2)\n",
        "    print(f\"The equivalent weight on {planet}:\", planet_weight)\n",
        "else:\n",
        "    print(\"Invalid planet name. Please enter one from the solar system.\")"
      ],
      "metadata": {
        "colab": {
          "base_uri": "https://localhost:8080/"
        },
        "id": "g1R3lgk2CR2t",
        "outputId": "615b6d0a-9c4e-4d73-d890-f272205602eb"
      },
      "execution_count": 2,
      "outputs": [
        {
          "output_type": "stream",
          "name": "stdout",
          "text": [
            "Enter a weight on Earth: 3752681\n",
            "Enter a planet: 24874\n",
            "Invalid planet name. Please enter one from the solar system.\n"
          ]
        }
      ]
    }
  ]
}