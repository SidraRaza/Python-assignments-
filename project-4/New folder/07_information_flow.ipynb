{
  "nbformat": 4,
  "nbformat_minor": 0,
  "metadata": {
    "colab": {
      "provenance": [],
      "authorship_tag": "ABX9TyMXxGa08J3v9K+t62ZTvzHn",
      "include_colab_link": true
    },
    "kernelspec": {
      "name": "python3",
      "display_name": "Python 3"
    },
    "language_info": {
      "name": "python"
    }
  },
  "cells": [
    {
      "cell_type": "markdown",
      "metadata": {
        "id": "view-in-github",
        "colab_type": "text"
      },
      "source": [
        "<a href=\"https://colab.research.google.com/github/SidraRaza/Python-assignments-/blob/main/project-4/New%20folder/07_information_flow.ipynb\" target=\"_parent\"><img src=\"https://colab.research.google.com/assets/colab-badge.svg\" alt=\"Open In Colab\"/></a>"
      ]
    },
    {
      "cell_type": "markdown",
      "source": [
        "00_choosing_returns"
      ],
      "metadata": {
        "id": "YN-geGcVEfls"
      }
    },
    {
      "cell_type": "code",
      "source": [
        "# Define the legal adult age\n",
        "ADULT_AGE = 18\n",
        "\n",
        "def is_adult(age):\n",
        "    # Return True if age is greater than or equal to the adult age, otherwise False\n",
        "    if age >= ADULT_AGE:\n",
        "        return True\n",
        "    else:\n",
        "        return False\n",
        "\n",
        "def main():\n",
        "    age = int(input(\"How old is this person?: \"))  # Ask for the user's age input\n",
        "    print(is_adult(age))  # Call the function and print the result\n",
        "\n",
        "if __name__ == '__main__':\n",
        "    main()\n"
      ],
      "metadata": {
        "colab": {
          "base_uri": "https://localhost:8080/"
        },
        "id": "ncilFsabEgoV",
        "outputId": "6843e087-b609-4a81-85ce-126b2d27638b"
      },
      "execution_count": null,
      "outputs": [
        {
          "output_type": "stream",
          "name": "stdout",
          "text": [
            "How old is this person?: 4\n",
            "False\n"
          ]
        }
      ]
    },
    {
      "cell_type": "markdown",
      "source": [
        "01_greetings"
      ],
      "metadata": {
        "id": "FPxPYUb5E3kd"
      }
    },
    {
      "cell_type": "code",
      "source": [
        "# Helper function to greet the user\n",
        "def greet(name):\n",
        "    print(f\"Greetings {name}!\")\n",
        "\n",
        "def main():\n",
        "    # Ask for the user's name\n",
        "    name = input(\"What's your name? \")\n",
        "\n",
        "    # Call the greet function with the user's name\n",
        "    greet(name)\n",
        "\n",
        "if __name__ == '__main__':\n",
        "    main()\n"
      ],
      "metadata": {
        "colab": {
          "base_uri": "https://localhost:8080/"
        },
        "id": "SDo1QMhdFDFO",
        "outputId": "11f6c232-f004-425f-bb3a-ad7cc269cb7b"
      },
      "execution_count": null,
      "outputs": [
        {
          "output_type": "stream",
          "name": "stdout",
          "text": [
            "What's your name? sidra\n",
            "Greetings sidra!\n"
          ]
        }
      ]
    },
    {
      "cell_type": "markdown",
      "source": [
        "02_in_range"
      ],
      "metadata": {
        "id": "6A56xbbVFsT3"
      }
    },
    {
      "cell_type": "code",
      "source": [
        "def in_range(n, low, high):\n",
        "    # Check if n is between low and high, inclusive\n",
        "    return low <= n <= high\n",
        "\n",
        "def main():\n",
        "    # Example of how you can use the in_range function\n",
        "    n = int(input(\"Enter a number: \"))\n",
        "    low = int(input(\"Enter the lower bound: \"))\n",
        "    high = int(input(\"Enter the upper bound: \"))\n",
        "\n",
        "    # Call the in_range function and print the result\n",
        "    if in_range(n, low, high):\n",
        "        print(f\"{n} is between {low} and {high}, inclusive.\")\n",
        "    else:\n",
        "        print(f\"{n} is not between {low} and {high}.\")\n",
        "\n",
        "if __name__ == '__main__':\n",
        "    main()\n"
      ],
      "metadata": {
        "colab": {
          "base_uri": "https://localhost:8080/"
        },
        "id": "zZOO9GofFlE-",
        "outputId": "d7a3d5fd-10f6-4ab4-dad2-5801a9e868ff"
      },
      "execution_count": null,
      "outputs": [
        {
          "output_type": "stream",
          "name": "stdout",
          "text": [
            "Enter a number: 334\n",
            "Enter the lower bound: 2\n",
            "Enter the upper bound: 34\n",
            "334 is not between 2 and 34.\n"
          ]
        }
      ]
    },
    {
      "cell_type": "markdown",
      "source": [
        "03_in_stock"
      ],
      "metadata": {
        "id": "Bfg2Fm9uF7WF"
      }
    },
    {
      "cell_type": "code",
      "source": [
        "# Define the num_in_stock function\n",
        "def num_in_stock(fruit):\n",
        "    # A dictionary to simulate the inventory\n",
        "    inventory = {\n",
        "        'apple': 50,\n",
        "        'banana': 120,\n",
        "        'pear': 1000,\n",
        "        'grape': 200,\n",
        "        'orange': 150\n",
        "    }\n",
        "\n",
        "    # Return the number of the fruit in stock, or 0 if not in stock\n",
        "    return inventory.get(fruit.lower(), 0)\n",
        "\n",
        "def main():\n",
        "    # Prompt the user for a fruit\n",
        "    fruit = input(\"Enter a fruit: \").strip()\n",
        "\n",
        "    # Call num_in_stock to get the number of that fruit in stock\n",
        "    stock = num_in_stock(fruit)\n",
        "\n",
        "    # Print appropriate message based on the stock\n",
        "    if stock > 0:\n",
        "        print(\"This fruit is in stock! Here is how many:\")\n",
        "        print(stock)\n",
        "    else:\n",
        "        print(\"This fruit is not in stock.\")\n",
        "\n",
        "if __name__ == '__main__':\n",
        "    main()\n"
      ],
      "metadata": {
        "colab": {
          "base_uri": "https://localhost:8080/"
        },
        "id": "M1mLeEpCGEst",
        "outputId": "5ba85eef-39bd-487e-a43a-f2d56b204b06"
      },
      "execution_count": null,
      "outputs": [
        {
          "output_type": "stream",
          "name": "stdout",
          "text": [
            "Enter a fruit: apple\n",
            "This fruit is in stock! Here is how many:\n",
            "50\n"
          ]
        }
      ]
    },
    {
      "cell_type": "markdown",
      "source": [
        "04_multiple_returns"
      ],
      "metadata": {
        "id": "8q0erOCkKHRY"
      }
    },
    {
      "cell_type": "code",
      "source": [
        "def get_user_data():\n",
        "    # Ask user for their first name\n",
        "    first_name = input(\"What is your first name?: \")\n",
        "\n",
        "    # Ask user for their last name\n",
        "    last_name = input(\"What is your last name?: \")\n",
        "\n",
        "    # Ask user for their email address\n",
        "    email = input(\"What is your email address?: \")\n",
        "\n",
        "    # Return all three as a tuple\n",
        "    return first_name, last_name, email\n",
        "\n",
        "def main():\n",
        "    # Call the function and store returned values\n",
        "    user_data = get_user_data()\n",
        "\n",
        "    # Print the returned user data\n",
        "    print(\"Received the following user data:\", user_data)\n",
        "\n",
        "if __name__ == '__main__':\n",
        "    main()\n"
      ],
      "metadata": {
        "colab": {
          "base_uri": "https://localhost:8080/"
        },
        "id": "W9_qEn0PKAuR",
        "outputId": "c203f622-0952-4f72-f118-9d6f7fa0f0a1"
      },
      "execution_count": null,
      "outputs": [
        {
          "output_type": "stream",
          "name": "stdout",
          "text": [
            "What is your first name?: sidra\n",
            "What is your last name?: raza\n",
            "What is your email address?: sidraraza@gmail.com \n",
            "Received the following user data: ('sidra', 'raza', 'sidraraza@gmail.com ')\n"
          ]
        }
      ]
    },
    {
      "cell_type": "markdown",
      "source": [
        "05_subtract_7"
      ],
      "metadata": {
        "id": "9s8egnfKKUJ4"
      }
    },
    {
      "cell_type": "code",
      "source": [
        "def subtract_seven(num):\n",
        "    return num - 7\n",
        "\n",
        "def main():\n",
        "    number = int(input(\"Enter a number: \"))\n",
        "    result = subtract_seven(number)\n",
        "    print(\"Result after subtracting 7:\", result)\n",
        "\n",
        "if __name__ == '__main__':\n",
        "    main()\n"
      ],
      "metadata": {
        "colab": {
          "base_uri": "https://localhost:8080/"
        },
        "id": "PBSqLyxBKb0s",
        "outputId": "4d6f3aea-71d9-43d2-d0bd-450e09036476"
      },
      "execution_count": null,
      "outputs": [
        {
          "output_type": "stream",
          "name": "stdout",
          "text": [
            "Enter a number: 3\n",
            "Result after subtracting 7: -4\n"
          ]
        }
      ]
    }
  ]
}